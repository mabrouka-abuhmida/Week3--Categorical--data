{
  "nbformat": 4,
  "nbformat_minor": 0,
  "metadata": {
    "colab": {
      "provenance": []
    },
    "kernelspec": {
      "name": "python3",
      "display_name": "Python 3"
    },
    "language_info": {
      "name": "python"
    }
  },
  "cells": [
    {
      "cell_type": "markdown",
      "source": [
        "**Exercise 1: Data Loading**\n",
        "Load the dataset into a Pandas DataFrame and display the first few rows to get a sense of the data."
      ],
      "metadata": {
        "id": "lLdpT0LcNjhP"
      }
    },
    {
      "cell_type": "code",
      "execution_count": null,
      "metadata": {
        "id": "jLWso60ZNgs4"
      },
      "outputs": [],
      "source": [
        "import pandas as pd\n",
        "\n",
        "# Load the dataset - use the correct dataset file name\n",
        "data = pd.read_csv('xxxxxxx')  # Replace 'xxxxxxxx' with the actual file path\n",
        "\n",
        "# write the code to Display the first few rows of the dataset\n"
      ]
    },
    {
      "cell_type": "markdown",
      "source": [
        "**Exercise 2: Handling Missing Values**\n",
        "\n",
        "Identify and handle missing values in the dataset. It appears that missing values are represented as '?' in some columns."
      ],
      "metadata": {
        "id": "FK3W6X48Nz9O"
      }
    },
    {
      "cell_type": "code",
      "source": [
        "# Replace '?' with NaN in the entire DataFrame\n",
        "data.replace('?', pd.NA, inplace=True)\n",
        "\n",
        "# Check for missing values\n",
        "\n",
        "#add your code here\n",
        "\n",
        "print(missing_values)\n"
      ],
      "metadata": {
        "id": "DUiWtwxcNzWG"
      },
      "execution_count": null,
      "outputs": []
    },
    {
      "cell_type": "markdown",
      "source": [
        "**Exercise 3: Data Preprocessing**\n",
        "\n",
        "Perform preprocessing tasks such as encoding categorical variables, handling missing values, and scaling numerical features."
      ],
      "metadata": {
        "id": "gHsoP6F1OGCQ"
      }
    },
    {
      "cell_type": "markdown",
      "source": [
        "What are the categorical data features names"
      ],
      "metadata": {
        "id": "hR7Cr5syOiBB"
      }
    },
    {
      "cell_type": "code",
      "source": [
        "# Encode categorical variables using one-hot encoding\n",
        "\n",
        "\n",
        "data_encoded = # Add your code here\n",
        "\n",
        "# Fill missing values with appropriate imputation techniques (e.g., median for numerical columns)\n",
        "\n",
        "# add your code here\n",
        "\n",
        "\n",
        "\n",
        "# Display the preprocessed dataset\n",
        "print(data_encoded.head())\n"
      ],
      "metadata": {
        "id": "bxoJ_2UZOHxe"
      },
      "execution_count": null,
      "outputs": []
    },
    {
      "cell_type": "markdown",
      "source": [
        "**Exercise 4: Exploratory Data Analysis (EDA)**\n",
        "\n",
        "Perform some exploratory data analysis to understand the distribution of features, correlations, and summary statistics."
      ],
      "metadata": {
        "id": "EADtkhgCOwq5"
      }
    },
    {
      "cell_type": "code",
      "source": [
        "# Summary statistics\n",
        "summary_stats = data_encoded.describe()\n",
        "print(summary_stats)\n",
        "\n",
        "# Correlation matrix\n",
        "correlation_matrix = data_encoded.corr()\n",
        "print(correlation_matrix)\n"
      ],
      "metadata": {
        "id": "F7Fd-egcO14c"
      },
      "execution_count": null,
      "outputs": []
    },
    {
      "cell_type": "markdown",
      "source": [
        "**Your task now is to use your knowledge in data visualization and create a board to explain relations between the diffrent features**"
      ],
      "metadata": {
        "id": "GzULigzqO4D4"
      }
    },
    {
      "cell_type": "code",
      "source": [
        "# add your code here"
      ],
      "metadata": {
        "id": "J78YpM8CPNBz"
      },
      "execution_count": null,
      "outputs": []
    },
    {
      "cell_type": "markdown",
      "source": [
        "**Exercise 5: Data Splitting**\n",
        "\n",
        "Split the dataset into training and testing sets for machine learning purposes.\n",
        "Run the following code with no change"
      ],
      "metadata": {
        "id": "BYOjvAX7PNta"
      }
    },
    {
      "cell_type": "code",
      "source": [
        "from sklearn.model_selection import train_test_split\n",
        "\n",
        "# Define the target variable (income) and features (all other columns)\n",
        "X = data_encoded.drop(columns=['income'])\n",
        "y = data_encoded['income']\n",
        "\n",
        "# Split the data into training and testing sets (e.g., 80% training, 20% testing)\n",
        "X_train, X_test, y_train, y_test = train_test_split(X, y, test_size=0.2, random_state=42)\n",
        "\n",
        "# Check the shapes of the splits\n",
        "print(f\"X_train shape: {X_train.shape}, y_train shape: {y_train.shape}\")\n",
        "print(f\"X_test shape: {X_test.shape}, y_test shape: {y_test.shape}\")\n"
      ],
      "metadata": {
        "id": "hBH5s8M8PX9z"
      },
      "execution_count": null,
      "outputs": []
    },
    {
      "cell_type": "markdown",
      "source": [
        "Your ultimate objective is to employ encoding methods different from one-hot encoding and subsequently redo tasks 3, 4, and 5. Following that, analyze the distinctions and assess how the chosen encoding techniques influence the prediction outcomes.\n",
        "\n",
        "\n",
        "\n",
        "\n"
      ],
      "metadata": {
        "id": "lqeNC_erPdlU"
      }
    }
  ]
}